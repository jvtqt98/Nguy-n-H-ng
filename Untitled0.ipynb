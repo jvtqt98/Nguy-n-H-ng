{
  "nbformat": 4,
  "nbformat_minor": 0,
  "metadata": {
    "colab": {
      "name": "Untitled0.ipynb",
      "provenance": [],
      "authorship_tag": "ABX9TyPgLT9/2o98mWdPczFmrIY0",
      "include_colab_link": true
    },
    "kernelspec": {
      "name": "python3",
      "display_name": "Python 3"
    },
    "language_info": {
      "name": "python"
    }
  },
  "cells": [
    {
      "cell_type": "markdown",
      "metadata": {
        "id": "view-in-github",
        "colab_type": "text"
      },
      "source": [
        "<a href=\"https://colab.research.google.com/github/jvtqt98/Nguy-n-H-ng/blob/main/Untitled0.ipynb\" target=\"_parent\"><img src=\"https://colab.research.google.com/assets/colab-badge.svg\" alt=\"Open In Colab\"/></a>"
      ]
    },
    {
      "cell_type": "code",
      "metadata": {
        "id": "HOUmqjfdbFDT"
      },
      "source": [
        "import numpy as np\n",
        "import matplotlib.pyplot as plt\n",
        "from sklearn.linear_model import LogisticRegression\n",
        "from sklearn import datasets\n",
        "from sklearn.metrics import accuracy_score\n"
      ],
      "execution_count": 1,
      "outputs": []
    },
    {
      "cell_type": "code",
      "metadata": {
        "colab": {
          "base_uri": "https://localhost:8080/"
        },
        "id": "BevwulM_cA3Z",
        "outputId": "f4eb4224-b807-4161-eb9d-f43ecbe5344b"
      },
      "source": [
        "sample_data = datasets.load_breast_cancer()\n",
        "X = sample_data.data[:,0:6:5]\n",
        "y = sample_data.target\n",
        "\n",
        "M_class = np.array([X[i] for i in range(len(y)) if y[i]==0])\n",
        "B_class = np.array([X[i] for i in range(len(y)) if y[i]==1])\n",
        "\n",
        "print(len(M_class),len(B_class))"
      ],
      "execution_count": 8,
      "outputs": [
        {
          "output_type": "stream",
          "name": "stdout",
          "text": [
            "212 357\n"
          ]
        }
      ]
    },
    {
      "cell_type": "code",
      "metadata": {
        "colab": {
          "base_uri": "https://localhost:8080/",
          "height": 296
        },
        "id": "5-pjT7HFiUwA",
        "outputId": "0970ecf1-efe7-4212-b77e-4cff87976e4d"
      },
      "source": [
        "plt.xlabel(\"ban kinh\")\n",
        "plt.ylabel(\"do lom\")\n",
        "plt.scatter(M_class[:,0],M_class[:,1],color = 'red')\n",
        "plt.scatter( B_class[:,0],B_class[:,1],color = 'blue')"
      ],
      "execution_count": 11,
      "outputs": [
        {
          "output_type": "execute_result",
          "data": {
            "text/plain": [
              "<matplotlib.collections.PathCollection at 0x7fa648b3ee90>"
            ]
          },
          "metadata": {},
          "execution_count": 11
        },
        {
          "output_type": "display_data",
          "data": {
            "image/png": "[encoded data removed]",
            "text/plain": [
              "<Figure size 432x288 with 1 Axes>"
            ]
          },
          "metadata": {
            "needs_background": "light"
          }
        }
      ]
    }
  ]
}